{
 "cells": [
  {
   "cell_type": "code",
   "execution_count": 1,
   "metadata": {},
   "outputs": [],
   "source": [
    "import pandas as pd\n",
    "from bs4 import BeautifulSoup as bs\n",
    "import requests\n",
    "import re\n",
    "import mysql.connector"
   ]
  },
  {
   "cell_type": "code",
   "execution_count": 2,
   "metadata": {},
   "outputs": [
    {
     "data": {
      "text/plain": [
       "<Response [200]>"
      ]
     },
     "execution_count": 2,
     "metadata": {},
     "output_type": "execute_result"
    }
   ],
   "source": [
    "url= \"https://www.amazon.com/dp/B076DS3Y56\"\n",
    "\n",
    "response= requests.get(url)\n",
    "response"
   ]
  },
  {
   "cell_type": "code",
   "execution_count": 3,
   "metadata": {},
   "outputs": [],
   "source": [
    "soup= bs(response.content,\"lxml\")"
   ]
  },
  {
   "cell_type": "markdown",
   "metadata": {},
   "source": [
    "#print(soup.prettify())"
   ]
  },
  {
   "cell_type": "code",
   "execution_count": 5,
   "metadata": {},
   "outputs": [
    {
     "name": "stdout",
     "output_type": "stream",
     "text": [
      "<span class=\"a-size-large product-title-word-break\" id=\"productTitle\">        Enfamil Enspire Optimum Baby Formula, with Immune-Supporting Lactoferrin, Our Closest Formula to Breast Milk, Brain Building DHA, Dual Prebiotics, Infant Formula Powder, Baby Milk, 20.5 Oz, Pack of 4       </span>\n"
     ]
    }
   ],
   "source": [
    "#getting the title\n",
    "\n",
    "title_temp=soup.find(\"span\",class_=\"a-size-large product-title-word-break\")\n",
    "print(title_temp)\n",
    "\n",
    "title_temp_2=[]\n",
    "title_temp_2.append(title_temp.text)"
   ]
  },
  {
   "cell_type": "code",
   "execution_count": 6,
   "metadata": {},
   "outputs": [
    {
     "data": {
      "text/plain": [
       "'Enfamil Enspire Optimum Baby Formula, with Immune-Supporting Lactoferrin, Our Closest Formula to Breast Milk, Brain Building DHA, Dual Prebiotics, Infant Formula Powder, Baby Milk, 20.5 Oz, Pack of 4'"
      ]
     },
     "execution_count": 6,
     "metadata": {},
     "output_type": "execute_result"
    }
   ],
   "source": [
    "title=title_temp_2[0].strip()\n",
    "title"
   ]
  },
  {
   "cell_type": "code",
   "execution_count": 7,
   "metadata": {},
   "outputs": [
    {
     "data": {
      "text/plain": [
       "'187.'"
      ]
     },
     "execution_count": 7,
     "metadata": {},
     "output_type": "execute_result"
    }
   ],
   "source": [
    "dollar=soup.find(\"span\", class_=\"a-price-whole\")\n",
    "dollar=dollar.get_text()\n",
    "dollar"
   ]
  },
  {
   "cell_type": "code",
   "execution_count": 8,
   "metadata": {},
   "outputs": [
    {
     "data": {
      "text/plain": [
       "'16'"
      ]
     },
     "execution_count": 8,
     "metadata": {},
     "output_type": "execute_result"
    }
   ],
   "source": [
    "cents=soup.find(\"span\", class_=\"a-price-fraction\")\n",
    "cents=cents.get_text()\n",
    "cents"
   ]
  },
  {
   "cell_type": "code",
   "execution_count": 9,
   "metadata": {},
   "outputs": [
    {
     "data": {
      "text/plain": [
       "'187.16'"
      ]
     },
     "execution_count": 9,
     "metadata": {},
     "output_type": "execute_result"
    }
   ],
   "source": [
    "#getting the price\n",
    "price=dollar+cents\n",
    "price"
   ]
  },
  {
   "cell_type": "code",
   "execution_count": 10,
   "metadata": {},
   "outputs": [
    {
     "data": {
      "text/plain": [
       "'20.5 oz Tub, Pack of 4'"
      ]
     },
     "execution_count": 10,
     "metadata": {},
     "output_type": "execute_result"
    }
   ],
   "source": [
    "#getting the size\n",
    "size_temp= soup.find(\"span\", class_=\"selection\")\n",
    "\n",
    "size= size_temp.get_text()\n",
    "\n",
    "size"
   ]
  },
  {
   "cell_type": "code",
   "execution_count": 11,
   "metadata": {},
   "outputs": [
    {
     "data": {
      "text/plain": [
       "'Enfamil'"
      ]
     },
     "execution_count": 11,
     "metadata": {},
     "output_type": "execute_result"
    }
   ],
   "source": [
    "#getting the brand\n",
    "brand_temp= soup.find(\"span\", class_=\"a-size-base po-break-word\")\n",
    "\n",
    "brand= brand_temp.get_text()\n",
    "\n",
    "brand"
   ]
  },
  {
   "cell_type": "code",
   "execution_count": 12,
   "metadata": {},
   "outputs": [
    {
     "data": {
      "text/plain": [
       "[<span class=\"a-size-small offer-display-feature-text-message\">Amazon.com</span>,\n",
       " <span class=\"a-size-small offer-display-feature-text-message\">Amazon.com</span>,\n",
       " <span class=\"a-size-small offer-display-feature-text-message\">This item is non-returnable</span>,\n",
       " <span class=\"a-size-small offer-display-feature-text-message\">Secure transaction</span>,\n",
       " <span class=\"a-size-small offer-display-feature-text-message\">Amazon.com</span>]"
      ]
     },
     "execution_count": 12,
     "metadata": {},
     "output_type": "execute_result"
    }
   ],
   "source": [
    "temp=soup.find_all('span', {'class': 'a-size-small offer-display-feature-text-message'})\n",
    "temp"
   ]
  },
  {
   "cell_type": "code",
   "execution_count": 13,
   "metadata": {},
   "outputs": [
    {
     "data": {
      "text/plain": [
       "'Amazon.com'"
      ]
     },
     "execution_count": 13,
     "metadata": {},
     "output_type": "execute_result"
    }
   ],
   "source": [
    "#getting the ship_from\n",
    "ships_from=temp[0].get_text()\n",
    "ships_from"
   ]
  },
  {
   "cell_type": "code",
   "execution_count": 14,
   "metadata": {},
   "outputs": [
    {
     "data": {
      "text/plain": [
       "'Amazon.com'"
      ]
     },
     "execution_count": 14,
     "metadata": {},
     "output_type": "execute_result"
    }
   ],
   "source": [
    "#getting the sold_from\n",
    "sold_by=temp[1].get_text()\n",
    "sold_by"
   ]
  },
  {
   "cell_type": "code",
   "execution_count": 15,
   "metadata": {},
   "outputs": [
    {
     "data": {
      "text/plain": [
       "'187.16'"
      ]
     },
     "execution_count": 15,
     "metadata": {},
     "output_type": "execute_result"
    }
   ],
   "source": [
    "price"
   ]
  },
  {
   "cell_type": "code",
   "execution_count": 16,
   "metadata": {},
   "outputs": [
    {
     "data": {
      "text/plain": [
       "[['Enfamil Enspire Optimum Baby Formula, with Immune-Supporting Lactoferrin, Our Closest Formula to Breast Milk, Brain Building DHA, Dual Prebiotics, Infant Formula Powder, Baby Milk, 20.5 Oz, Pack of 4',\n",
       "  '187.16',\n",
       "  '20.5 oz Tub, Pack of 4',\n",
       "  'Enfamil',\n",
       "  'Amazon.com',\n",
       "  'Amazon.com']]"
      ]
     },
     "execution_count": 16,
     "metadata": {},
     "output_type": "execute_result"
    }
   ],
   "source": [
    "#append in a list\n",
    "final=[]\n",
    "final.append([title,price,size,brand,ships_from,sold_by])\n",
    "final"
   ]
  },
  {
   "cell_type": "code",
   "execution_count": 17,
   "metadata": {},
   "outputs": [],
   "source": [
    "df= pd.DataFrame(final,columns=['title','price','size','brand','ships_from','sold_by'])"
   ]
  },
  {
   "cell_type": "code",
   "execution_count": 18,
   "metadata": {},
   "outputs": [],
   "source": [
    "df.index.name='product_id'"
   ]
  },
  {
   "cell_type": "code",
   "execution_count": 19,
   "metadata": {},
   "outputs": [
    {
     "data": {
      "text/html": [
       "<div>\n",
       "<style scoped>\n",
       "    .dataframe tbody tr th:only-of-type {\n",
       "        vertical-align: middle;\n",
       "    }\n",
       "\n",
       "    .dataframe tbody tr th {\n",
       "        vertical-align: top;\n",
       "    }\n",
       "\n",
       "    .dataframe thead th {\n",
       "        text-align: right;\n",
       "    }\n",
       "</style>\n",
       "<table border=\"1\" class=\"dataframe\">\n",
       "  <thead>\n",
       "    <tr style=\"text-align: right;\">\n",
       "      <th></th>\n",
       "      <th>title</th>\n",
       "      <th>price</th>\n",
       "      <th>size</th>\n",
       "      <th>brand</th>\n",
       "      <th>ships_from</th>\n",
       "      <th>sold_by</th>\n",
       "    </tr>\n",
       "    <tr>\n",
       "      <th>product_id</th>\n",
       "      <th></th>\n",
       "      <th></th>\n",
       "      <th></th>\n",
       "      <th></th>\n",
       "      <th></th>\n",
       "      <th></th>\n",
       "    </tr>\n",
       "  </thead>\n",
       "  <tbody>\n",
       "    <tr>\n",
       "      <th>0</th>\n",
       "      <td>Enfamil Enspire Optimum Baby Formula, with Imm...</td>\n",
       "      <td>187.16</td>\n",
       "      <td>20.5 oz Tub, Pack of 4</td>\n",
       "      <td>Enfamil</td>\n",
       "      <td>Amazon.com</td>\n",
       "      <td>Amazon.com</td>\n",
       "    </tr>\n",
       "  </tbody>\n",
       "</table>\n",
       "</div>"
      ],
      "text/plain": [
       "                                                        title   price  \\\n",
       "product_id                                                              \n",
       "0           Enfamil Enspire Optimum Baby Formula, with Imm...  187.16   \n",
       "\n",
       "                              size    brand  ships_from     sold_by  \n",
       "product_id                                                           \n",
       "0           20.5 oz Tub, Pack of 4  Enfamil  Amazon.com  Amazon.com  "
      ]
     },
     "execution_count": 19,
     "metadata": {},
     "output_type": "execute_result"
    }
   ],
   "source": [
    "df"
   ]
  },
  {
   "cell_type": "code",
   "execution_count": 20,
   "metadata": {},
   "outputs": [],
   "source": [
    "df.to_csv('amazon_product.csv')"
   ]
  },
  {
   "cell_type": "code",
   "execution_count": 21,
   "metadata": {},
   "outputs": [],
   "source": [
    "db= mysql.connector.connect(user='root',password='123456',database='amazon')\n",
    "cursor= db.cursor(0)\n",
    "\n",
    "add_product= (\"INSERT INTO products\"\n",
    "              \"(title,price,size,brand,ships_from,sold_by)\"\n",
    "              \"VALUES (%s %s %s %s %s %s)\")\n",
    "\n"
   ]
  },
  {
   "cell_type": "code",
   "execution_count": 22,
   "metadata": {},
   "outputs": [],
   "source": [
    "pro=(title,price,size,brand,ships_from,sold_by)"
   ]
  },
  {
   "cell_type": "code",
   "execution_count": 23,
   "metadata": {},
   "outputs": [],
   "source": [
    "#cursor.execute(add_product,pro)"
   ]
  }
 ],
 "metadata": {
  "kernelspec": {
   "display_name": "Python 3",
   "language": "python",
   "name": "python3"
  },
  "language_info": {
   "codemirror_mode": {
    "name": "ipython",
    "version": 3
   },
   "file_extension": ".py",
   "mimetype": "text/x-python",
   "name": "python",
   "nbconvert_exporter": "python",
   "pygments_lexer": "ipython3",
   "version": "3.12.0"
  }
 },
 "nbformat": 4,
 "nbformat_minor": 2
}
